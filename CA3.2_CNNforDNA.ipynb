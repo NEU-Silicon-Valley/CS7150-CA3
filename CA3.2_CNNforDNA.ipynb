{
 "cells": [
  {
   "cell_type": "markdown",
   "metadata": {},
   "source": [
    "This can be run [run on Google Colab using this link](https://colab.research.google.com/github/NEU-Silicon-Valley/CS7150-CA3/blob/main/CA3.2_CNNforDNA.ipynb)\n",
    "\n",
    "<font size='6'>**CA 3.2: Applying CNNs to DNA Sequence Data**</font>"
   ]
  },
  {
   "cell_type": "markdown",
   "metadata": {
    "id": "f7aU-bVNU_la"
   },
   "source": [
    "In this assignment, we are going to use neural networks to predict whether a DNA sequence contains a specific pattern. Regulators (also knowm as transcription factors) bind to specific sequence patterns in our DNA, called motifs, and the neural networks will learn these motif preferences for the prediction.\n",
    "\n",
    "We will work with simulated data to illustrate the key concepts.\n",
    "\n",
    "We will be following a tutorial developed in the following paper:\n",
    "\n",
    "**A Primer on Deep Learning in Genomics** (*Nature Genetics, 2018*) by James Zou, Mikael Huss, Abubakar Abid, Pejman Mohammadi, Ali Torkamani & Amalio Telentil. [Read the paper here](https://www.nature.com/articles/s41588-018-0295-5).\n",
    "\n",
    "The original version from which this course is adapted can be found linked in the above paper."
   ]
  },
  {
   "cell_type": "markdown",
   "metadata": {
    "id": "JMTr6-2CVJOE"
   },
   "source": [
    "## 0. Background"
   ]
  },
  {
   "cell_type": "markdown",
   "metadata": {
    "id": "pj9q9X8fVKAZ"
   },
   "source": [
    "In this tutorial, we will show how to use deep learning to approach an important problem in functional genomics: **the discovery of transcription-factor binding sites in DNA**.\n",
    "\n",
    "As we go through this notebook, we will  design a neural network that can discover binding motifs in DNA based on the results of an assay that determines whether a longer DNA sequence binds to the protein or not. Here, the longer DNA sequences are our *independent variables* (or *predictors*), while the positive or negative response of the assay is the *dependent variable* (or *response*).\n",
    "\n",
    "We will use simulated data that consists of DNA sequences of length 50 bases (chosen to be artificially short so that the data is easy to play around with), and is labeled with 0 or 1 depending on the result of the assay. Our goal is to build a classifier that can predict whether a particular sequence will bind to the protein and discover the short motif that is the binding site in the sequences that are bound to the protein.\n",
    "\n",
    "(Spoiler alert: the true regulatory motif is *`CGACCGAACTCC`*. Of course, the neural network doesn't know this.)"
   ]
  },
  {
   "cell_type": "markdown",
   "metadata": {
    "id": "rNnfNH-bVKC0"
   },
   "source": [
    "## 1. Curate the Data"
   ]
  },
  {
   "cell_type": "markdown",
   "metadata": {
    "id": "I94FyPpUVTFw"
   },
   "source": [
    "![alt text](https://github.com/abidlabs/deep-learning-genomics-primer/blob/master/Screenshot%20from%202018-08-01%2020-31-01.png?raw=true)"
   ]
  },
  {
   "cell_type": "markdown",
   "metadata": {
    "id": "oH0xVMp-VWqE"
   },
   "source": [
    "In order to train the neural network, we must load and preprocess the data, which consists of DNA sequences and their corresponding labels.By processing this data, the network will learn to distinguish sequences that bind to the transcription factor from those that do not. We will split the data into three different sub-datasets:\n",
    "\n",
    "(1) Training dataset: a dataset used to fit the parameters of a model or to define the weights of connections between neurons of a neural network.\n",
    "\n",
    "(2) Validation dataset: a second dataset used to minimize overfitting. The weights of the network are not adjusted with this data set. After each training cycle, if the accuracy over the training data set increases, but the accuracy over the validation data set stays the same or decreases, then there is overfitting on the neural network.\n",
    "\n",
    "(3) Testing dataset: is a third dataset not included in the training nor validation data sets. After all the training and validation cycles are complete, this dataset is used only for testing the final solution in order to measure the actual predictive power of the neural network on new examples.\n",
    "\n",
    "-----------\n",
    "\n",
    "**INPUTS**\n",
    "\n",
    "**Features**\n",
    "\n",
    "We start by loading the simulated data from an external repository."
   ]
  },
  {
   "cell_type": "code",
   "execution_count": 1,
   "metadata": {
    "colab": {
     "base_uri": "https://localhost:8080/",
     "height": 206
    },
    "id": "OwpTst3qVAO2",
    "outputId": "09bf7b1d-d904-4951-b954-a76c015de486"
   },
   "outputs": [
    {
     "data": {
      "text/html": [
       "<div>\n",
       "<style scoped>\n",
       "    .dataframe tbody tr th:only-of-type {\n",
       "        vertical-align: middle;\n",
       "    }\n",
       "\n",
       "    .dataframe tbody tr th {\n",
       "        vertical-align: top;\n",
       "    }\n",
       "\n",
       "    .dataframe thead th {\n",
       "        text-align: right;\n",
       "    }\n",
       "</style>\n",
       "<table border=\"1\" class=\"dataframe\">\n",
       "  <thead>\n",
       "    <tr style=\"text-align: right;\">\n",
       "      <th></th>\n",
       "      <th>Sequences</th>\n",
       "    </tr>\n",
       "  </thead>\n",
       "  <tbody>\n",
       "    <tr>\n",
       "      <th>1</th>\n",
       "      <td>CCGAGGGCTATGGTTTGGAAGTTAGAACCCTGGGGCTTCTCGCGGA...</td>\n",
       "    </tr>\n",
       "    <tr>\n",
       "      <th>2</th>\n",
       "      <td>GAGTTTATATGGCGCGAGCCTAGTGGTTTTTGTACTTGTTTGTCGC...</td>\n",
       "    </tr>\n",
       "    <tr>\n",
       "      <th>3</th>\n",
       "      <td>GATCAGTAGGGAAACAAACAGAGGGCCCAGCCACATCTAGCAGGTA...</td>\n",
       "    </tr>\n",
       "    <tr>\n",
       "      <th>4</th>\n",
       "      <td>GTCCACGACCGAACTCCCACCTTGACCGCAGAGGTACCACCAGAGC...</td>\n",
       "    </tr>\n",
       "    <tr>\n",
       "      <th>5</th>\n",
       "      <td>GGCGACCGAACTCCAACTAGAACCTGCATAACTGGCCTGGGAGATA...</td>\n",
       "    </tr>\n",
       "  </tbody>\n",
       "</table>\n",
       "</div>"
      ],
      "text/plain": [
       "                                           Sequences\n",
       "1  CCGAGGGCTATGGTTTGGAAGTTAGAACCCTGGGGCTTCTCGCGGA...\n",
       "2  GAGTTTATATGGCGCGAGCCTAGTGGTTTTTGTACTTGTTTGTCGC...\n",
       "3  GATCAGTAGGGAAACAAACAGAGGGCCCAGCCACATCTAGCAGGTA...\n",
       "4  GTCCACGACCGAACTCCCACCTTGACCGCAGAGGTACCACCAGAGC...\n",
       "5  GGCGACCGAACTCCAACTAGAACCTGCATAACTGGCCTGGGAGATA..."
      ]
     },
     "execution_count": 1,
     "metadata": {},
     "output_type": "execute_result"
    }
   ],
   "source": [
    "import numpy as np\n",
    "import pandas as pd\n",
    "import matplotlib.pyplot as plt\n",
    "import requests\n",
    "import torch\n",
    "import torch.nn as nn\n",
    "import torch.optim as optim\n",
    "from torch.utils.data import Dataset, DataLoader, TensorDataset\n",
    "\n",
    "SEQUENCES_URL = 'https://raw.githubusercontent.com/abidlabs/deep-learning-genomics-primer/master/sequences.txt'\n",
    "\n",
    "sequences = requests.get(SEQUENCES_URL).text.split('\\n')\n",
    "sequences = list(filter(None, sequences))  # This removes empty sequences.\n",
    "\n",
    "# Let's print the first few sequences.\n",
    "pd.DataFrame(sequences, index=np.arange(1, len(sequences)+1),\n",
    "             columns=['Sequences']).head()"
   ]
  },
  {
   "cell_type": "markdown",
   "metadata": {
    "id": "ZrcGQBA4Vc7Y"
   },
   "source": [
    "**Q1. Describe in your own words what distinguishes examples in the positive set from those in the negative set.** (1 pt)"
   ]
  },
  {
   "cell_type": "markdown",
   "metadata": {
    "id": "ilOZWJzpVhQE"
   },
   "source": [
    "**Q2. How many examples are in our dataset?** (1 pt)"
   ]
  },
  {
   "cell_type": "code",
   "execution_count": 2,
   "metadata": {
    "colab": {
     "base_uri": "https://localhost:8080/"
    },
    "id": "vFu8eoUKVZan",
    "outputId": "3dfa5592-0546-42e1-cc52-662b1624e743"
   },
   "outputs": [
    {
     "data": {
      "text/plain": [
       "2000"
      ]
     },
     "execution_count": 2,
     "metadata": {},
     "output_type": "execute_result"
    }
   ],
   "source": [
    "len(sequences)"
   ]
  },
  {
   "cell_type": "markdown",
   "metadata": {
    "id": "dh4lN-cFVk7y"
   },
   "source": [
    "**Labels**\n",
    "\n",
    "Similarly, we can go ahead and load the labels (_response variables_)."
   ]
  },
  {
   "cell_type": "code",
   "execution_count": 3,
   "metadata": {
    "id": "TOBldlucVjiV"
   },
   "outputs": [],
   "source": [
    "LABELS_URL = 'https://raw.githubusercontent.com/abidlabs/deep-learning-genomics-primer/master/labels.txt'\n",
    "\n",
    "labels = requests.get(LABELS_URL).text.split('\\n')\n",
    "labels = list(filter(None, labels))  # removes empty sequences"
   ]
  },
  {
   "cell_type": "markdown",
   "metadata": {
    "id": "Xwrx8uB2VpEV"
   },
   "source": [
    "**Q3. How many positive examples are there (class 1)? How many negative examples (class 0)?** (1 pt)\n"
   ]
  },
  {
   "cell_type": "code",
   "execution_count": 4,
   "metadata": {
    "colab": {
     "base_uri": "https://localhost:8080/"
    },
    "id": "7XAvDaxwVnHI",
    "outputId": "a2b89c0f-1b77-4375-f7e2-0ebe0b775fec"
   },
   "outputs": [
    {
     "data": {
      "text/plain": [
       "['0', '0', '0', '1', '1']"
      ]
     },
     "execution_count": 4,
     "metadata": {},
     "output_type": "execute_result"
    }
   ],
   "source": [
    "labels[:5]"
   ]
  },
  {
   "cell_type": "code",
   "execution_count": 5,
   "metadata": {
    "id": "MDTHF-RwVrF-"
   },
   "outputs": [],
   "source": [
    "pos_count=0\n",
    "neg_count=0\n",
    "\n",
    "for i in range(len(labels)):\n",
    "  if labels[i]=='1':\n",
    "    pos_count+=1\n",
    "  if labels[i]=='0':\n",
    "    neg_count+=1"
   ]
  },
  {
   "cell_type": "markdown",
   "metadata": {
    "id": "DmFf-Q2ZVv0r"
   },
   "source": [
    "**Data formatting**\n",
    "\n",
    "The next  step is to organize the data into a format that can be passed into a deep learning algorithm. Most deep learning algorithms accept data in the form of vectors or matrices (or more generally, tensors).\n",
    "\n",
    "To get each DNA sequence in the form of a matrix, we use _one-hot encoding_, which encodes every base in a sequence in the form of a 4-dimensional vector, with a separate dimension for each base. We place a \"1\" in the dimension corresponding to the base found in the DNA sequence, and \"0\"s in all other slots. We then concatenate these 4-dimensional vectors together along the bases in the sequence to form a matrix.\n",
    "\n",
    "In the cell below, we one-hot encode the simulated DNA sequences, and show an example of what the one-hot encoded sequence looks like:"
   ]
  },
  {
   "cell_type": "code",
   "execution_count": 6,
   "metadata": {
    "colab": {
     "base_uri": "https://localhost:8080/"
    },
    "id": "MaiHbIYeVstq",
    "outputId": "dc0c6f42-c081-4c56-a259-235574819d89"
   },
   "outputs": [
    {
     "name": "stdout",
     "output_type": "stream",
     "text": [
      "Example sequence\n",
      "-----------------------\n",
      "DNA Sequence #1:\n",
      " CCGAGGGCTA ... CGCGGACACC\n",
      "One hot encoding of Sequence #1:\n",
      " [[0. 0. 0. ... 1. 0. 0.]\n",
      " [1. 1. 0. ... 0. 1. 1.]\n",
      " [0. 0. 1. ... 0. 0. 0.]\n",
      " [0. 0. 0. ... 0. 0. 0.]]\n"
     ]
    }
   ],
   "source": [
    "from sklearn.preprocessing import LabelEncoder, OneHotEncoder\n",
    "\n",
    "# The LabelEncoder encodes a sequence of bases as a sequence of integers.\n",
    "integer_encoder = LabelEncoder()\n",
    "# The OneHotEncoder converts an array of integers to a sparse matrix\n",
    "one_hot_encoder = OneHotEncoder(categories='auto')\n",
    "input_features = []\n",
    "\n",
    "for sequence in sequences:\n",
    "    integer_encoded = integer_encoder.fit_transform(list(sequence))\n",
    "    integer_encoded = np.array(integer_encoded).reshape(-1, 1)\n",
    "    one_hot_encoded = one_hot_encoder.fit_transform(integer_encoded)\n",
    "    input_features.append(one_hot_encoded.toarray())\n",
    "\n",
    "np.set_printoptions(threshold=40)\n",
    "input_features = np.stack(input_features)\n",
    "\n",
    "# Convert to PyTorch format: (batch, channels, sequence_length)\n",
    "# Original shape is (batch, sequence_length, channels)\n",
    "input_features_torch = input_features.transpose(0, 2, 1)\n",
    "\n",
    "print(\"Example sequence\\n-----------------------\")\n",
    "print('DNA Sequence #1:\\n',sequences[0][:10],'...',sequences[0][-10:])\n",
    "print('One hot encoding of Sequence #1:\\n',input_features_torch[0])"
   ]
  },
  {
   "cell_type": "markdown",
   "metadata": {
    "id": "DjDKLwaMN4cD"
   },
   "source": [
    "Similarly, we can go ahead and load the labels (_response variables_). In this case, the labels are structured as follows: a \"1\" indicates that a protein bound to the sequence, while a \"0\" indicates that the protein did not. While we could use the labels as a vector, it is often easier to similarly one-hot encode the labels, as we did the features. We carry out that here:"
   ]
  },
  {
   "cell_type": "markdown",
   "metadata": {
    "id": "27H2L8YLN70a"
   },
   "source": [
    "**Q4. If we one-hot encode our DNA sequences, what will be the shape of our one-hot encoding? Remember, there are 4 possible bases at each position.** (1 pt)\n"
   ]
  },
  {
   "cell_type": "code",
   "execution_count": 7,
   "metadata": {},
   "outputs": [
    {
     "name": "stdout",
     "output_type": "stream",
     "text": [
      "First 5 labels as indices: tensor([0, 0, 0, 1, 1])\n"
     ]
    }
   ],
   "source": [
    "# Convert the original list of '0' and '1' strings to integers\n",
    "labels_int = [int(l) for l in labels]\n",
    "\n",
    "# Convert to a LongTensor of class indices (0, 1, 0, 1, ...)\n",
    "# This is the format required by nn.CrossEntropyLoss\n",
    "labels_torch = torch.LongTensor(labels_int)\n",
    "\n",
    "print('First 5 labels as indices:', labels_torch[:5])"
   ]
  },
  {
   "cell_type": "markdown",
   "metadata": {
    "id": "4_DwvDtRN65U"
   },
   "source": [
    "**Q5. How are positive examples encoded? [0 1] or [1 0]?** (1 pt)\n"
   ]
  },
  {
   "cell_type": "markdown",
   "metadata": {
    "id": "IPxy9tm6OHs2"
   },
   "source": [
    "**Splitting data into training, validation and test sets**\n",
    "\n",
    "We also go ahead and split the data into training and test sets. The purpose of the test set is to ensure that we can observe the performance of the model on new data, not seen previously during training. At a later step, we will further partition the training set into a training and validation set."
   ]
  },
  {
   "cell_type": "code",
   "execution_count": 8,
   "metadata": {
    "id": "Gb_X_SSkOFfe"
   },
   "outputs": [],
   "source": [
    "from sklearn.model_selection import train_test_split\n",
    "\n",
    "# Split using the transposed features for PyTorch\n",
    "train_features, test_features, train_labels, test_labels = train_test_split(\n",
    "    input_features_torch, labels_torch, test_size=0.25, random_state=42)\n",
    "\n",
    "# Further split training data into train and validation\n",
    "train_features, val_features, train_labels, val_labels = train_test_split(\n",
    "    train_features, train_labels, test_size=0.25, random_state=42)\n",
    "\n",
    "# Convert to PyTorch tensors\n",
    "train_features = torch.FloatTensor(train_features)\n",
    "val_features = torch.FloatTensor(val_features)\n",
    "test_features = torch.FloatTensor(test_features)\n",
    "\n",
    "## should be converted to LongTensor as we are using CrossEntropyLoss\n",
    "# train_labels = torch.LongTensor(train_labels)  ## Redundant  since we are already in torch.LongTensor format\n",
    "# val_labels = torch.LongTensor(val_labels)\n",
    "# test_labels = torch.LongTensor(test_labels)\n",
    "\n",
    "# Create DataLoaders for batch processing\n",
    "train_dataset = TensorDataset(train_features, train_labels)\n",
    "val_dataset = TensorDataset(val_features, val_labels)\n",
    "test_dataset = TensorDataset(test_features, test_labels)\n",
    "\n",
    "train_loader = DataLoader(train_dataset, batch_size=32, shuffle=True)\n",
    "val_loader = DataLoader(val_dataset, batch_size=32, shuffle=False)\n",
    "test_loader = DataLoader(test_dataset, batch_size=32, shuffle=False)"
   ]
  },
  {
   "cell_type": "markdown",
   "metadata": {
    "id": "-EzMUlE0OL93"
   },
   "source": [
    "**Q6. What fraction of our dataset is in the training set? What about the test set?** (1 pt)"
   ]
  },
  {
   "cell_type": "markdown",
   "metadata": {
    "id": "xVOU2DJ_OPAf"
   },
   "source": [
    "**Q7. How would you decide what fraction of the data to use for training vs test?** (1 pt)\n",
    "\n"
   ]
  },
  {
   "cell_type": "markdown",
   "metadata": {},
   "source": [
    "**Q8. Why do we need both a validation set and a test set? Couldn't we test our model on the validation set?** (1 pt)"
   ]
  },
  {
   "cell_type": "markdown",
   "metadata": {
    "id": "yaphK-WjORlx"
   },
   "source": [
    "## 2. Select the Architecture and Train"
   ]
  },
  {
   "cell_type": "markdown",
   "metadata": {
    "id": "CBd37sMjOTlR"
   },
   "source": [
    "![alt text](https://github.com/abidlabs/deep-learning-genomics-primer/blob/master/Screenshot%20from%202018-08-01%2020-31-49.png?raw=true)"
   ]
  },
  {
   "cell_type": "markdown",
   "metadata": {
    "id": "DCidg0mJOW4I"
   },
   "source": [
    "Next, we choose a neural network architecture to train the model. In this tutorial, we choose a simple 1D convolutional neural network (CNN), which is commonly used in deep learning for functional genomics applications.\n",
    "\n",
    "A CNN learns to recognize patterns that are generally invariant across space, by trying to match the input sequence to a number of learnable \"filters\" of a fixed size. In our dataset, the filters will be motifs within the DNA sequences. The CNN may then learn to combine these filters to recognize a larger structure (e.g. the presence or absence of a transcription factor binding site).\n",
    "\n",
    "We will use the deep learning library `Keras`. As of 2017, `Keras` has been integrated into `TensorFlow`,  which makes it very easy to construct neural networks. We only need to specify the kinds of layers we would like to include in our network, and the dimensionality of each layer. The CNN we generate in this example consists of the following layers:\n",
    "\n",
    "- _Conv1D_: We define our convolutional layer to have 32 filters of size 12 bases.\n",
    "\n",
    "- _MaxPooling1D_: After the convolution, we use a pooling layer to down-sample the output of the each of the 32 convolutional filters. Though not always required, this is a typical form of non-linear down-sampling used in CNNs.\n",
    "\n",
    "- _Flatten_: This layer flattens the output of the max pooling layer, combining the results of the convolution and pooling layers across all 32 filters.\n",
    "\n",
    "- _Dense_: The first Dense tensor creates a layer (dense_1) that compresses the representation of the flattened layer, resulting in smaller layer with 16 tensors, and the second Dense function converges the tensors into the output layer (dense_2) that consists of the two possible response values (0 or 1).\n",
    "\n",
    "We can see the details of the architecture of the neural network we have created by running `model.summary()`, which prints the dimensionality and number of parameters for each layer in our network."
   ]
  },
  {
   "cell_type": "code",
   "execution_count": 9,
   "metadata": {
    "colab": {
     "base_uri": "https://localhost:8080/",
     "height": 362
    },
    "id": "wE4hPo2WOKHq",
    "outputId": "bb701bb1-d287-4a6a-fee0-d3226fb0de87"
   },
   "outputs": [
    {
     "name": "stdout",
     "output_type": "stream",
     "text": [
      "DNAConvNet(\n",
      "  (conv1): Conv1d(4, 32, kernel_size=(12,), stride=(1,))\n",
      "  (pool): MaxPool1d(kernel_size=4, stride=4, padding=0, dilation=1, ceil_mode=False)\n",
      "  (flatten): Flatten(start_dim=1, end_dim=-1)\n",
      "  (fc1): Linear(in_features=288, out_features=16, bias=True)\n",
      "  (fc2): Linear(in_features=16, out_features=2, bias=True)\n",
      "  (relu): ReLU()\n",
      ")\n",
      "Total parameters: 6226\n"
     ]
    }
   ],
   "source": [
    "class DNAConvNet(nn.Module):\n",
    "    def __init__(self):\n",
    "        super(DNAConvNet, self).__init__()\n",
    "        # Conv1d expects input shape: (batch, channels, sequence_length)\n",
    "        # Input: (batch, 4, 50)\n",
    "        self.conv1 = nn.Conv1d(in_channels=4, out_channels=32, kernel_size=12)\n",
    "        self.pool = nn.MaxPool1d(kernel_size=4)\n",
    "        self.flatten = nn.Flatten()\n",
    "        # Calculate flattened size: 32 channels * ((50-12+1)/4) = 32 * 9 = 288\n",
    "        self.fc1 = nn.Linear(288, 16)\n",
    "        self.fc2 = nn.Linear(16, 2)\n",
    "        self.relu = nn.ReLU()\n",
    "        # self.softmax = nn.Softmax(dim=1) - not needed as we'll use CrossEntropyLoss\n",
    "        \n",
    "    def forward(self, x):\n",
    "        # Convolutional layer followed by pooling\n",
    "        x = self.conv1(x)\n",
    "        x = self.pool(x)\n",
    "        \n",
    "        # Flatten the output for the fully connected layers\n",
    "        x = self.flatten(x)\n",
    "        \n",
    "        # Fully connected layers\n",
    "        x = self.relu(self.fc1(x))\n",
    "        x = self.fc2(x)\n",
    "        \n",
    "        # Note: We don't apply softmax here as nn.CrossEntropyLoss expects raw logits\n",
    "        return x # Return raw logits\n",
    "\n",
    "# Initialize model, loss function, and optimizer\n",
    "device = torch.device('cuda' if torch.cuda.is_available() else 'cpu')\n",
    "model = DNAConvNet().to(device)\n",
    "\n",
    "# Use CrossEntropyLoss for multi-class (2-class) classification with one-hot labels\n",
    "# Note: PyTorch's CrossEntropyLoss can handle both class indices and one-hot encoded targets\n",
    "criterion = nn.CrossEntropyLoss() \n",
    "optimizer = optim.Adam(model.parameters())\n",
    "\n",
    "# Print model summary\n",
    "print(model)\n",
    "total_params = sum(p.numel() for p in model.parameters())\n",
    "print(f\"Total parameters: {total_params}\")"
   ]
  },
  {
   "cell_type": "markdown",
   "metadata": {
    "id": "UXAjzyIaOcxr"
   },
   "source": [
    "**Q9. Why do we use a sigmoid activation function for the last layer, and rectified linear units in the other layers?** (1 pt)"
   ]
  },
  {
   "cell_type": "markdown",
   "metadata": {},
   "source": [
    "**Q10. Loss function: What does binary cross entropy measure?** (1 pt)"
   ]
  },
  {
   "cell_type": "markdown",
   "metadata": {
    "id": "dOCBZzkOOgFm"
   },
   "source": [
    "Now, we are ready to go ahead and train the neural network. We will further divide the training set into a training and validation set. We will train only on the reduced training set, but plot the loss curve on both the training and validation sets. Once the loss for the validation set stops improving or gets worse throughout the learning cycles, it is time to stop training because the model has already converged and may be just overfitting."
   ]
  },
  {
   "cell_type": "code",
   "execution_count": 10,
   "metadata": {
    "colab": {
     "base_uri": "https://localhost:8080/",
     "height": 472
    },
    "id": "_o83QVkDOaO2",
    "outputId": "552c5d4b-5d18-4a52-9ecb-d05ee20fbcf0"
   },
   "outputs": [
    {
     "name": "stdout",
     "output_type": "stream",
     "text": [
      "Epoch [5/30], Train Loss: 0.2388, Train Acc: 0.9193, Val Loss: 0.2874, Val Acc: 0.8756\n",
      "Epoch [10/30], Train Loss: 0.0839, Train Acc: 0.9800, Val Loss: 0.1807, Val Acc: 0.9313\n",
      "Epoch [15/30], Train Loss: 0.0449, Train Acc: 0.9939, Val Loss: 0.1723, Val Acc: 0.9407\n",
      "Epoch [20/30], Train Loss: 0.0147, Train Acc: 1.0000, Val Loss: 0.1445, Val Acc: 0.9427\n",
      "Epoch [25/30], Train Loss: 0.0070, Train Acc: 1.0000, Val Loss: 0.1450, Val Acc: 0.9531\n",
      "Epoch [30/30], Train Loss: 0.0044, Train Acc: 1.0000, Val Loss: 0.1527, Val Acc: 0.9433\n"
     ]
    },
    {
     "data": {
      "image/png": "[encoded data removed]",
      "text/plain": [
       "<Figure size 1200x400 with 2 Axes>"
      ]
     },
     "metadata": {},
     "output_type": "display_data"
    }
   ],
   "source": [
    "# Training configuration\n",
    "num_epochs = 30\n",
    "train_losses = []\n",
    "val_losses = []\n",
    "train_accuracies = []\n",
    "val_accuracies = []\n",
    "\n",
    "def calculate_accuracy(outputs, labels):\n",
    "    \"\"\"Calculate binary accuracy for the batch\"\"\"\n",
    "    # predictions = torch.softmax(outputs, dim=1)  # No softmax needed, argmax works directly on logits\n",
    "    predicted = outputs.argmax(dim=1)\n",
    "    # true_labels = labels.argmax(dim=1)  # The 'labels' are now already the correct indices\n",
    "    correct = (predicted == labels).float().sum()\n",
    "    return correct / labels.size(0)\n",
    "\n",
    "# Training loop\n",
    "for epoch in range(num_epochs):\n",
    "    # Training phase\n",
    "    model.train()\n",
    "    running_loss = 0.0\n",
    "    running_accuracy = 0.0\n",
    "    \n",
    "    for batch_features, batch_labels in train_loader:\n",
    "        # Move data to device\n",
    "        batch_features = batch_features.to(device)\n",
    "        batch_labels = batch_labels.to(device)\n",
    "        \n",
    "        # Zero the gradients\n",
    "        optimizer.zero_grad()\n",
    "        \n",
    "        # Forward pass\n",
    "        outputs = model(batch_features)\n",
    "        loss = criterion(outputs, batch_labels)\n",
    "        \n",
    "        # Backward pass and optimization\n",
    "        loss.backward()\n",
    "        optimizer.step()\n",
    "        \n",
    "        # Track metrics\n",
    "        running_loss += loss.item()\n",
    "        running_accuracy += calculate_accuracy(outputs, batch_labels).item()  # Convert to Python scalar\n",
    "    \n",
    "    # Calculate average training metrics\n",
    "    avg_train_loss = running_loss / len(train_loader)\n",
    "    avg_train_accuracy = running_accuracy / len(train_loader)\n",
    "    train_losses.append(avg_train_loss)\n",
    "    train_accuracies.append(avg_train_accuracy)\n",
    "    \n",
    "    # Validation phase\n",
    "    model.eval()\n",
    "    running_val_loss = 0.0\n",
    "    running_val_accuracy = 0.0\n",
    "    \n",
    "    with torch.no_grad():\n",
    "        for batch_features, batch_labels in val_loader:\n",
    "            batch_features = batch_features.to(device)\n",
    "            batch_labels = batch_labels.to(device)\n",
    "            \n",
    "            outputs = model(batch_features)\n",
    "            loss = criterion(outputs, batch_labels)\n",
    "            \n",
    "            running_val_loss += loss.item()\n",
    "            running_val_accuracy += calculate_accuracy(outputs, batch_labels).item()  # Convert to Python scalar\n",
    "    \n",
    "    # Calculate average validation metrics\n",
    "    avg_val_loss = running_val_loss / len(val_loader)\n",
    "    avg_val_accuracy = running_val_accuracy / len(val_loader)\n",
    "    val_losses.append(avg_val_loss)\n",
    "    val_accuracies.append(avg_val_accuracy)\n",
    "    \n",
    "    # Print progress every 5 epochs\n",
    "    if (epoch + 1) % 5 == 0:\n",
    "        print(f'Epoch [{epoch+1}/{num_epochs}], '\n",
    "              f'Train Loss: {avg_train_loss:.4f}, Train Acc: {avg_train_accuracy:.4f}, '\n",
    "              f'Val Loss: {avg_val_loss:.4f}, Val Acc: {avg_val_accuracy:.4f}')\n",
    "\n",
    "# Plot training history\n",
    "plt.figure(figsize=(12, 4))\n",
    "\n",
    "plt.subplot(1, 2, 1)\n",
    "plt.plot(train_losses, label='train')\n",
    "plt.plot(val_losses, label='validation')\n",
    "plt.title('Model Loss')\n",
    "plt.ylabel('Loss')\n",
    "plt.xlabel('Epoch')\n",
    "plt.legend()\n",
    "\n",
    "plt.subplot(1, 2, 2)\n",
    "plt.plot(train_accuracies, label='train')\n",
    "plt.plot(val_accuracies, label='validation')\n",
    "plt.title('Model Accuracy')\n",
    "plt.ylabel('Accuracy')\n",
    "plt.xlabel('Epoch')\n",
    "plt.legend()\n",
    "\n",
    "plt.tight_layout()\n",
    "plt.show()"
   ]
  },
  {
   "cell_type": "markdown",
   "metadata": {
    "id": "hJ1JrH2LOlL0"
   },
   "source": [
    "Similarly, we can plot the accuracy of our neural network on the binary classification task. The metric used in this example is the _binary accuracy_, which calculates the proportion of predictions that match labels or response variables. Other metrics may be used in different tasks -- for example, the _mean squared error_ is typically used to measure the accuracy for continuous response variables (e.g. polygenic risk scores, total serum cholesterol level, height, weight and systolic blood pressure)."
   ]
  },
  {
   "cell_type": "markdown",
   "metadata": {
    "id": "k7MTHvFfOrbN"
   },
   "source": [
    "**Q11. Why do you think the accuracy on the validation set is lower than that on the training set?** (1 pt) \n"
   ]
  },
  {
   "cell_type": "markdown",
   "metadata": {
    "id": "bs1jVqRbOuoR"
   },
   "source": [
    "## 3. Evaluate"
   ]
  },
  {
   "cell_type": "markdown",
   "metadata": {
    "id": "UncYYISrOyp6"
   },
   "source": [
    "![alt text](https://github.com/abidlabs/deep-learning-genomics-primer/blob/master/Screenshot%20from%202018-08-01%2020-32-12.png?raw=true)"
   ]
  },
  {
   "cell_type": "markdown",
   "metadata": {
    "id": "CwEkZGP2O2V3"
   },
   "source": [
    "The best way to evaluate whether the network has learned to classify sequences is to evaluate its performance on a fresh test set consisting of data that it has not observed at all during training. Here, we evaluate the model on the test set and plot the results as a confusion matrix. Nearly every test sequence should be correctly classified."
   ]
  },
  {
   "cell_type": "code",
   "execution_count": 11,
   "metadata": {
    "colab": {
     "base_uri": "https://localhost:8080/",
     "height": 543
    },
    "id": "41TiG69MOoF7",
    "outputId": "88d38802-0787-4e03-b322-97d2956f0fcf"
   },
   "outputs": [
    {
     "name": "stdout",
     "output_type": "stream",
     "text": [
      "Confusion matrix:\n",
      " [[255   4]\n",
      " [  7 234]]\n"
     ]
    },
    {
     "data": {
      "image/png": "[encoded data removed]",
      "text/plain": [
       "<Figure size 800x600 with 2 Axes>"
      ]
     },
     "metadata": {},
     "output_type": "display_data"
    },
    {
     "name": "stdout",
     "output_type": "stream",
     "text": [
      "Precision: 0.9832\n",
      "Recall: 0.9710\n"
     ]
    }
   ],
   "source": [
    "from sklearn.metrics import confusion_matrix\n",
    "import itertools\n",
    "\n",
    "# Evaluate model on test set\n",
    "model.eval()\n",
    "all_predictions = []\n",
    "all_true_labels = []\n",
    "\n",
    "with torch.no_grad():\n",
    "    for batch_features, batch_labels in test_loader:\n",
    "        batch_features = batch_features.to(device)\n",
    "        \n",
    "        # Get predictions\n",
    "        outputs = model(batch_features)\n",
    "        predictions = torch.softmax(outputs, dim=1)\n",
    "        \n",
    "        # Store predictions and true labels\n",
    "        all_predictions.append(predictions.cpu().numpy())\n",
    "        all_true_labels.append(batch_labels.numpy())\n",
    "\n",
    "# Concatenate all batches\n",
    "all_predictions = np.concatenate(all_predictions)\n",
    "all_true_labels = np.concatenate(all_true_labels)\n",
    "\n",
    "# Calculate confusion matrix\n",
    "cm = confusion_matrix(all_true_labels,\n",
    "                      np.argmax(all_predictions, axis=1))\n",
    "print('Confusion matrix:\\n', cm)\n",
    "\n",
    "# Normalize confusion matrix\n",
    "cm_normalized = cm.astype('float') / cm.sum(axis=1)[:, np.newaxis]\n",
    "\n",
    "# Plot confusion matrix\n",
    "plt.figure(figsize=(8, 6))\n",
    "plt.imshow(cm_normalized, cmap=plt.cm.Blues)\n",
    "plt.title('Normalized Confusion Matrix')\n",
    "plt.colorbar()\n",
    "plt.xlabel('Predicted Label')\n",
    "plt.ylabel('True Label')\n",
    "plt.xticks([0, 1])\n",
    "plt.yticks([0, 1])\n",
    "plt.grid(False)\n",
    "\n",
    "# Add text annotations\n",
    "for i, j in itertools.product(range(cm_normalized.shape[0]), range(cm_normalized.shape[1])):\n",
    "    plt.text(j, i, format(cm_normalized[i, j], '.2f'),\n",
    "             horizontalalignment='center',\n",
    "             color='white' if cm_normalized[i, j] > 0.5 else 'black')\n",
    "plt.show()\n",
    "\n",
    "# Calculate and print metrics\n",
    "precision = cm[1, 1] / (cm[1, 1] + cm[0, 1]) if (cm[1, 1] + cm[0, 1]) > 0 else 0\n",
    "recall = cm[1, 1] / (cm[1, 1] + cm[1, 0]) if (cm[1, 1] + cm[1, 0]) > 0 else 0\n",
    "print(f\"Precision: {precision:.4f}\")\n",
    "print(f\"Recall: {recall:.4f}\")"
   ]
  },
  {
   "cell_type": "markdown",
   "metadata": {
    "id": "q3o6ikSqO8AT"
   },
   "source": [
    "**Q12. What is the fraction of true positives (TP)? What about false positives (FP)? What about false negatives (FN)** (1 pt) "
   ]
  },
  {
   "cell_type": "markdown",
   "metadata": {
    "id": "HC-dHs8qPAJX"
   },
   "source": [
    "**Q13. What are the precision and recall of the model?** (1 pt)"
   ]
  },
  {
   "cell_type": "markdown",
   "metadata": {
    "id": "bWgQgupGPCt7"
   },
   "source": [
    "**Q14. Does this model perform well?** (1 pt)"
   ]
  },
  {
   "cell_type": "markdown",
   "metadata": {
    "id": "bmRVbnmSPFPd"
   },
   "source": [
    "## 4. Interpret"
   ]
  },
  {
   "cell_type": "markdown",
   "metadata": {
    "id": "j4gVLQnQPHsV"
   },
   "source": [
    "![alt text](https://github.com/abidlabs/deep-learning-genomics-primer/blob/master/Screenshot%20from%202018-08-01%2020-32-31.png?raw=true)"
   ]
  },
  {
   "cell_type": "markdown",
   "metadata": {
    "id": "l6VK5jTlPKsY"
   },
   "source": [
    "**Interpretation using in silico mutagenesis**\n",
    "\n",
    "We are now going to identify which bases in the our input sequences are important for the predictions that the model makes. We will use a method called in silico mutagenesis, or ISM.\n",
    "\n",
    "ISM takes each position in our sequence, and changes the true base that position for each other possible option, and checks how the prediction of the model changes. If changing a base changes the prediction significantly, it means the base was important for the prediction. This is what to expect to happen for bases that are part of the pattern we included in the sequences from our positive set.\n",
    "\n",
    "Let's try ISM for one example (example 1999)."
   ]
  },
  {
   "cell_type": "code",
   "execution_count": 12,
   "metadata": {
    "id": "cBe1nktWO-LS"
   },
   "outputs": [
    {
     "data": {
      "image/png": "[encoded data removed]",
      "text/plain": [
       "<Figure size 1200x300 with 2 Axes>"
      ]
     },
     "metadata": {},
     "output_type": "display_data"
    },
    {
     "name": "stdout",
     "output_type": "stream",
     "text": [
      "Original sequence: AATGTCGACCGAACTCCGCACTGCTGGCCCGGGCCTATATCGAGAGTGAC\n"
     ]
    }
   ],
   "source": [
    "import copy\n",
    "\n",
    "def in_silico_mutagenesis(model, sequence_tensor, device):\n",
    "    \"\"\"\n",
    "    Perform in silico mutagenesis on a DNA sequence.\n",
    "    \n",
    "    Args:\n",
    "        model: Trained PyTorch model\n",
    "        sequence_tensor: Input sequence tensor of shape (channels, sequence_length)\n",
    "        device: Device to run computations on\n",
    "    \n",
    "    Returns:\n",
    "        ISM output array of shape (sequence_length, 4)\n",
    "    \"\"\"\n",
    "    model.eval()\n",
    "    sequence_length = sequence_tensor.shape[1]\n",
    "    num_bases = 4\n",
    "    ism_output = np.zeros((sequence_length, num_bases))\n",
    "    \n",
    "    with torch.no_grad():\n",
    "        # Get original prediction\n",
    "        original_input = sequence_tensor.unsqueeze(0).to(device)\n",
    "        original_output = model(original_input)\n",
    "        original_prob = torch.softmax(original_output, dim=1)[0, 1].cpu().numpy()\n",
    "        \n",
    "        # Test each position and base\n",
    "        for pos in range(sequence_length):\n",
    "            for base in range(num_bases):\n",
    "                # Create mutated sequence\n",
    "                mutated_input = original_input.clone()\n",
    "                mutated_input[0, :, pos] = 0  # Reset all channels at this position\n",
    "                mutated_input[0, base, pos] = 1  # Set the specific base\n",
    "                \n",
    "                # Get prediction for mutated sequence\n",
    "                mutated_output = model(mutated_input)\n",
    "                mutated_prob = torch.softmax(mutated_output, dim=1)[0, 1].cpu().numpy()\n",
    "                \n",
    "                # Calculate difference\n",
    "                ism_output[pos, base] = original_prob - mutated_prob\n",
    "    \n",
    "    return ism_output\n",
    "\n",
    "# Perform ISM on a chosen example\n",
    "CHOSEN_EXAMPLE = 1999\n",
    "sequence_tensor = torch.FloatTensor(input_features_torch[CHOSEN_EXAMPLE])\n",
    "ism_result = in_silico_mutagenesis(model, sequence_tensor, device)\n",
    "\n",
    "# Visualization\n",
    "import seaborn as sns\n",
    "\n",
    "plt.figure(figsize=(12, 3))\n",
    "ism_df = pd.DataFrame(ism_result.T, \n",
    "                      columns=list(sequences[CHOSEN_EXAMPLE]),\n",
    "                      index=['A', 'C', 'G', 'T'])\n",
    "\n",
    "sns.heatmap(-ism_df, cmap='bwr', center=0, \n",
    "           xticklabels=True, yticklabels=True,\n",
    "           cbar_kws={'label': 'Importance Score'})\n",
    "plt.title(f'In Silico Mutagenesis for Sequence {CHOSEN_EXAMPLE}')\n",
    "plt.xlabel('Position in Sequence')\n",
    "plt.ylabel('Base')\n",
    "plt.tight_layout()\n",
    "plt.show()\n",
    "\n",
    "print(f\"Original sequence: {sequences[CHOSEN_EXAMPLE]}\")"
   ]
  },
  {
   "cell_type": "markdown",
   "metadata": {
    "id": "qWLGupmpPf7G"
   },
   "source": [
    "The results above should show high differences in prediction for the bases _CGACCGAACTCC_ appearing in the DNA sequence. If you recall from the top of the document, this is exactly the motif that we embedded in the positive sequences! The changes in prediction values may be non-zero for other bases as well -- the  method is not perfect, and there other more complex interpretation methods that are used in practice to obtain better results.  \n",
    "\n",
    "Furthermore, we may explore other architectures for our neural network to see if we can improve performance on the validation dataset. For example, we could choose different _hyper-parameters_, which are variables that define the network structure (e.g. the number of dense or convolutional layers, the dimensionality of each layer, etc.) and variables that determine how the network is trained (e.g. the number of epochs, the learning rate, etc.). Testing different hyper-parameter values or performing a hyper-parameter search grid are good practices that may help the deep learning procedure to obtain a clearer signal for classifying sequences and identifying the binding motif."
   ]
  },
  {
   "cell_type": "markdown",
   "metadata": {},
   "source": [
    "---\n",
    "### Fun things to explore\n",
    "\n",
    "\n",
    "- Can you explore different hyperparameters to increase the accuracy and/or solving the slight overfitting problem? \n",
    "\n",
    "- What do you think of the interpretation part? Can you look at 20 or sequences to print out ISM maps?  20 examples is 1% of given data (2000) How many of them are you willing to check and see any patterns?\n",
    "\n",
    "- Can you print and check 32 kernels? What did them learn?"
   ]
  }
 ],
 "metadata": {
  "accelerator": "GPU",
  "colab": {
   "gpuType": "T4",
   "machine_shape": "hm",
   "provenance": []
  },
  "kernelspec": {
   "display_name": "Python 3",
   "language": "python",
   "name": "python3"
  },
  "language_info": {
   "codemirror_mode": {
    "name": "ipython",
    "version": 3
   },
   "file_extension": ".py",
   "mimetype": "text/x-python",
   "name": "python",
   "nbconvert_exporter": "python",
   "pygments_lexer": "ipython3",
   "version": "3.8.8"
  }
 },
 "nbformat": 4,
 "nbformat_minor": 4
}
